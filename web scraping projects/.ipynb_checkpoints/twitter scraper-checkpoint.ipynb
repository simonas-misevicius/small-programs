{
 "cells": [
  {
   "cell_type": "code",
   "execution_count": 257,
   "id": "95ef051b",
   "metadata": {},
   "outputs": [],
   "source": [
    "#sign up with email. name: namestName email:fakem7506@gmail.com\n",
    "#keep other windows in windowed mode while program is running\n",
    "\n",
    "import undetected_chromedriver.v2 as uc\n",
    "options = uc.ChromeOptions()\n",
    "import os\n",
    "dirname = os.path.abspath('')\n",
    "profilePath = dirname + r'\\profile'\n",
    "options.add_argument(r'--user-data-dir=' + profilePath)\n",
    "\n",
    "# \"just some options passing in to skip annoying popups\" not realy tested by me.\n",
    "options.add_argument('--no-first-run --no-service-autorun --password-store=basic')\n",
    "driver = uc.Chrome(options=options)  \n",
    "driver.get(\"https://twitter.com\")  \n",
    "from selenium.webdriver.common.by import By\n",
    "from selenium.webdriver.support.ui import WebDriverWait\n",
    "from selenium.webdriver.support import expected_conditions as EC\n",
    "from selenium.webdriver.common.keys import Keys\n",
    "from selenium.webdriver.common.action_chains import ActionChains\n",
    "import time\n",
    "from bs4 import BeautifulSoup\n",
    "from selenium.common import exceptions"
   ]
  },
  {
   "cell_type": "code",
   "execution_count": 17,
   "id": "0574647a",
   "metadata": {},
   "outputs": [],
   "source": [
    "def goToLikes():\n",
    "    global resultsGlobal\n",
    "    global startAtGlobal\n",
    "    global finishedGlobal\n",
    "    \n",
    "    likes = WebDriverWait(driver, 5).until( #wait for up to 5 seconds\n",
    "        EC.presence_of_element_located((By.XPATH,'//div[@class=\"css-1dbjc4n r-1dgieki r-1efd50x r-5kkj8d r-13awgt0 r-18u37iz r-tzz3ar r-s1qlax r-1yzf0co\"]/div[3]/div/a'))\n",
    "    )\n",
    "    likes.click()\n",
    "    \n",
    "    WebDriverWait(driver, 5).until( #wait for up to 5 seconds\n",
    "        EC.presence_of_element_located((By.XPATH,'//div[@aria-labelledby=\"modal-header\"]'))\n",
    "    )\n",
    "    elementFisrt = WebDriverWait(driver, 5).until( #wait for up to 5 seconds\n",
    "        EC.presence_of_element_located((By.XPATH,'//div[@data-testid=\"cellInnerDiv\"]//a'))\n",
    "    )\n",
    "    userName = elementFisrt.get_attribute('href').replace('https://twitter.com','')\n",
    "    while(True):#loop through likes\n",
    "        try:\n",
    "            element = WebDriverWait(driver, 3).until( \n",
    "                EC.presence_of_element_located((By.XPATH, \\\n",
    "                '//a[@href=\"'+userName+'\"]/ancestor::div[@data-testid=\"cellInnerDiv\"][1]/following-sibling::*//a'))\n",
    "            )\n",
    "            userName = element.get_attribute('href').replace('https://twitter.com','')\n",
    "        except exceptions.TimeoutException:\n",
    "            print('end of list')\n",
    "    \n",
    "    finishedGlobal = True\n",
    "\n",
    "def exceptionHandler(func):\n",
    "    while(True):\n",
    "        try:\n",
    "            func()\n",
    "        except Exception as e:\n",
    "            print(e.__class__.__name__)\n",
    "            print('Program stopped probably because of captcha. Complete captcha in browser, then type any input in this window and press enter, and program will continue.')\n",
    "            a = input()\n",
    "        if (finishedGlobal):\n",
    "            break \n",
    "\n",
    "startAtGlobal = 0\n",
    "resultsGlobal = []\n",
    "finishedGlobal = False\n",
    "exceptionHandler(goToLikes)"
   ]
  },
  {
   "cell_type": "code",
   "execution_count": 255,
   "id": "a6406b78",
   "metadata": {},
   "outputs": [],
   "source": [
    "#get first like\n",
    "elementFisrt = WebDriverWait(driver, 5).until( \n",
    "    EC.presence_of_element_located((By.XPATH,'//div[@data-testid=\"cellInnerDiv\"]//a'))\n",
    ")\n",
    "userName = elementFisrt.get_attribute('href').replace('https://twitter.com','')\n"
   ]
  },
  {
   "cell_type": "code",
   "execution_count": 259,
   "id": "845e11c2",
   "metadata": {},
   "outputs": [],
   "source": [
    "userName = '/angle_trader'"
   ]
  },
  {
   "cell_type": "code",
   "execution_count": 263,
   "id": "a64a3644",
   "metadata": {
    "scrolled": true
   },
   "outputs": [
    {
     "name": "stdout",
     "output_type": "stream",
     "text": [
      "end of list\n",
      "/Will_holliday1\n"
     ]
    }
   ],
   "source": [
    "#get next like\n",
    "\n",
    "try:\n",
    "    element = WebDriverWait(driver, 3).until( \n",
    "        EC.presence_of_element_located((By.XPATH, \\\n",
    "        '//a[@href=\"'+userName+'\"]/ancestor::div[@data-testid=\"cellInnerDiv\"][1]/following-sibling::*//a'))\n",
    "    )\n",
    "    userName = element.get_attribute('href').replace('https://twitter.com','')\n",
    "except exceptions.TimeoutException:\n",
    "    print('end of list')\n",
    "print(userName)"
   ]
  },
  {
   "cell_type": "code",
   "execution_count": 97,
   "id": "46db677d",
   "metadata": {},
   "outputs": [],
   "source": [
    "element.send_keys(Keys.DOWN) #can u se this to scroll likes list"
   ]
  },
  {
   "cell_type": "code",
   "execution_count": 101,
   "id": "702eac84",
   "metadata": {},
   "outputs": [
    {
     "name": "stdout",
     "output_type": "stream",
     "text": [
      "/vinylio_vincent\n"
     ]
    }
   ],
   "source": [
    "#wait to load user\n",
    "print(userName)\n",
    "element = WebDriverWait(driver, 5).until( \n",
    "    EC.presence_of_element_located((By.XPATH, \\\n",
    "    '//a[@href=\"'+userName+'/following\"]'))\n",
    ")"
   ]
  },
  {
   "cell_type": "code",
   "execution_count": 187,
   "id": "aaba52c7",
   "metadata": {},
   "outputs": [
    {
     "name": "stdout",
     "output_type": "stream",
     "text": [
      "21\n",
      "loaded\n",
      "35\n",
      "300 reached\n",
      "36\n"
     ]
    }
   ],
   "source": [
    "#collect follows\n",
    "page = driver.find_element(By.XPATH , '//div[@aria-label=\"Home timeline\"]')\n",
    "follows = []\n",
    "firstRun = True\n",
    "\n",
    "while(True):\n",
    "    while(True):#wait for items to lead after scrolling down\n",
    "        soup = BeautifulSoup(driver.page_source, 'html.parser')\n",
    "        accounts = soup.find_all('div',attrs={\"data-testid\": \"cellInnerDiv\"})\n",
    "        if (firstRun):\n",
    "            break\n",
    "        if (accounts[len(accounts)-2].find('a') != None):\n",
    "            if (accounts[len(accounts)-2].find('a').get('href') not in follows):\n",
    "                print('loaded')\n",
    "                break\n",
    "        time.sleep(.1)\n",
    "    firstRun = False\n",
    "    countOfFollowsBefore = len(follows)\n",
    "    print(len(accounts))\n",
    "    for account in accounts:\n",
    "        element = account.find('a')\n",
    "        if(element is None):#last account doesnt get loaded yet\n",
    "            break\n",
    "        name = element.get('href')\n",
    "        if name not in follows:\n",
    "            follows.append(name)\n",
    "    if (countOfFollowsBefore == len(follows)):\n",
    "        print('same count')\n",
    "        break\n",
    "    if(len(follows) >= 300 or len(follows) >=36):\n",
    "        print('300 or end reached')\n",
    "        break\n",
    "    page.send_keys(Keys.END)\n",
    "print(len(follows))"
   ]
  }
 ],
 "metadata": {
  "kernelspec": {
   "display_name": "Python 3 (ipykernel)",
   "language": "python",
   "name": "python3"
  },
  "language_info": {
   "codemirror_mode": {
    "name": "ipython",
    "version": 3
   },
   "file_extension": ".py",
   "mimetype": "text/x-python",
   "name": "python",
   "nbconvert_exporter": "python",
   "pygments_lexer": "ipython3",
   "version": "3.9.12"
  }
 },
 "nbformat": 4,
 "nbformat_minor": 5
}
