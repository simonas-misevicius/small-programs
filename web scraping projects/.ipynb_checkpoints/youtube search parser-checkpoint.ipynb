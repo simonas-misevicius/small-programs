{
 "cells": [
  {
   "cell_type": "code",
   "execution_count": 2,
   "id": "c210c9b7",
   "metadata": {},
   "outputs": [
    {
     "name": "stderr",
     "output_type": "stream",
     "text": [
      "[WDM] - ====== WebDriver manager ======\n"
     ]
    },
    {
     "name": "stdout",
     "output_type": "stream",
     "text": [
      "\n"
     ]
    },
    {
     "name": "stderr",
     "output_type": "stream",
     "text": [
      "[WDM] - Current google-chrome version is 103.0.5060\n",
      "[WDM] - Get LATEST chromedriver version for 103.0.5060 google-chrome\n",
      "[WDM] - Driver [C:\\Users\\write\\.wdm\\drivers\\chromedriver\\win32\\103.0.5060.53\\chromedriver.exe] found in cache\n"
     ]
    },
    {
     "name": "stdout",
     "output_type": "stream",
     "text": [
      "78\n"
     ]
    }
   ],
   "source": [
    "from selenium.webdriver.common.by import By\n",
    "from selenium.webdriver.common.keys import Keys\n",
    "from bs4 import BeautifulSoup\n",
    "\n",
    "from selenium import webdriver\n",
    "from webdriver_manager.chrome import ChromeDriverManager\n",
    "from selenium.webdriver.chrome.service import Service\n",
    "\n",
    "from selenium.webdriver.support.ui import WebDriverWait\n",
    "from selenium.webdriver.support import expected_conditions as EC\n",
    "\n",
    "from selenium.webdriver import ActionChains\n",
    "\n",
    "driver = webdriver.Chrome(service=Service(ChromeDriverManager().install()))\n",
    "\n",
    "driver.get(\"https://www.youtube.com\")\n",
    "driver.maximize_window()\n",
    "\n",
    "input_field_old = driver.find_element(By.XPATH,\"//input[@id='search']\") #saved to be used in wait\n",
    "\n",
    "driver.find_element(By.XPATH,\"//yt-formatted-string[text()='Accept all']\").click()\n",
    "\n",
    "\n",
    "WebDriverWait(driver, 10).until( #wait for page to reload\n",
    "    EC.staleness_of(input_field_old)\n",
    ")\n",
    "\n",
    "input_field = driver.find_element(By.XPATH,\"//input[@id='search']\")\n",
    "input_field.click()\n",
    "input_field.send_keys(\"skit\" + Keys.ENTER)\n",
    "\n",
    "WebDriverWait(driver, 10).until( #wait for results to load\n",
    "    EC.presence_of_element_located((By.XPATH,\"//ytd-video-renderer\"))\n",
    ")\n",
    "\n",
    "#idea is to use to wait for scrol to happen before scrolling more, but it doesnt work currently\n",
    "action_chains = ActionChains(driver) \n",
    "action_chains.send_keys(Keys.END).send_keys(Keys.END).send_keys(Keys.END).perform()\n",
    "\n",
    "source = driver.page_source\n",
    "soup = BeautifulSoup(source, 'html.parser')\n",
    "\n",
    "h3es = soup(\"h3\")\n",
    "\n",
    "i=0\n",
    "for a in h3es:\n",
    "    i+=1\n",
    "    \n",
    "print(i)"
   ]
  },
  {
   "cell_type": "code",
   "execution_count": null,
   "id": "f6ec2a1a",
   "metadata": {},
   "outputs": [],
   "source": []
  }
 ],
 "metadata": {
  "kernelspec": {
   "display_name": "Python 3 (ipykernel)",
   "language": "python",
   "name": "python3"
  },
  "language_info": {
   "codemirror_mode": {
    "name": "ipython",
    "version": 3
   },
   "file_extension": ".py",
   "mimetype": "text/x-python",
   "name": "python",
   "nbconvert_exporter": "python",
   "pygments_lexer": "ipython3",
   "version": "3.9.12"
  }
 },
 "nbformat": 4,
 "nbformat_minor": 5
}
