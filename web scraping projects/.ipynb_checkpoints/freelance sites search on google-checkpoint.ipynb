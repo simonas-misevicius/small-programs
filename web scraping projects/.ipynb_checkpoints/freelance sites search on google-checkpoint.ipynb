{
 "cells": [
  {
   "cell_type": "code",
   "execution_count": 5,
   "id": "1814c88e",
   "metadata": {},
   "outputs": [
    {
     "name": "stderr",
     "output_type": "stream",
     "text": [
      "[WDM] - ====== WebDriver manager ======\n"
     ]
    },
    {
     "name": "stdout",
     "output_type": "stream",
     "text": [
      "\n"
     ]
    },
    {
     "name": "stderr",
     "output_type": "stream",
     "text": [
      "[WDM] - Current google-chrome version is 103.0.5060\n",
      "[WDM] - Get LATEST chromedriver version for 103.0.5060 google-chrome\n",
      "[WDM] - Driver [C:\\Users\\write\\.wdm\\drivers\\chromedriver\\win32\\103.0.5060.53\\chromedriver.exe] found in cache\n"
     ]
    },
    {
     "name": "stdout",
     "output_type": "stream",
     "text": [
      "all results count incudind duplicates 43\n",
      "only unique results:\n",
      "{'https://www.toptal.com', 'https://www.jnee.us/', 'https://www.kolabtree.com', 'https://www.upwork.com', 'https://www.works.so', 'https://www.twine.net', 'https://peakfreelance.com', 'https://www.fiverr.com', 'https://solidgigs.com', 'https://mindquest.io', 'https://www.receptix.de/', 'https://www.freelancersunion.org', 'https://www.receptix.us/', 'https://www.guru.com', 'https://freeup.net', 'https://www.freelancermap.com', 'https://www.webloadedsolutions.com/', 'https://www.freelance.com', 'https://www.workana.com', 'https://www.freelancer.com', 'https://www.fiverr.com/'}\n"
     ]
    }
   ],
   "source": [
    "from selenium.webdriver.common.by import By\n",
    "from selenium.webdriver.common.keys import Keys\n",
    "from bs4 import BeautifulSoup\n",
    "\n",
    "from selenium import webdriver\n",
    "from webdriver_manager.chrome import ChromeDriverManager\n",
    "from selenium.webdriver.chrome.service import Service\n",
    "\n",
    "driver = webdriver.Chrome(service=Service(ChromeDriverManager().install()))\n",
    "\n",
    "driver.get(\"https://www.google.com\")\n",
    "\n",
    "driver.find_element(By.XPATH,'//*[@id=\"L2AGLb\"]/div').click()\n",
    "\n",
    "driver.find_element(By.NAME, \"q\").send_keys(\"freelance\" + Keys.ENTER)\n",
    "\n",
    "count=0\n",
    "domains=[]\n",
    "for i in range(5):#how many google result pages will be scanned\n",
    "    source = driver.page_source\n",
    "    soup = BeautifulSoup(source, 'html.parser')\n",
    "    upAds = soup.find(id=\"tads\")#extract needed info from results presented as ads in top of page\n",
    "    if upAds is not None:\n",
    "        for element in upAds.find_all(class_=\"uEierd\"):\n",
    "            count+=1\n",
    "            domains.append(element.find(class_=\"x2VHCd OSrXXb qzEoUe\").text)\n",
    "\n",
    "    downAds = soup.find(id=\"tadsb\")#extract needed info from results presented as ads in bottom of page\n",
    "    if downAds is not None:\n",
    "        for element in downAds.find_all(class_=\"uEierd\"):\n",
    "            count+=1\n",
    "            domains.append(element.find(class_=\"x2VHCd OSrXXb qzEoUe\").text)\n",
    "            \n",
    "    for element in soup.find_all(class_=\"iUh30 tjvcx\"):#extract needed info from page results\n",
    "        count+=1\n",
    "        domains.append(element.text)\n",
    "\n",
    "    driver.find_element(By.ID,'pnnext').click()\n",
    "\n",
    "print(\"all results count incudind duplicates - \" +str(count))\n",
    "print(\"only unique results:\")\n",
    "print(set(domains))#makes list into a set to remove duplicates\n",
    "\n",
    "\n",
    "driver.quit()"
   ]
  },
  {
   "cell_type": "code",
   "execution_count": null,
   "id": "9865691d",
   "metadata": {},
   "outputs": [],
   "source": []
  }
 ],
 "metadata": {
  "kernelspec": {
   "display_name": "Python 3 (ipykernel)",
   "language": "python",
   "name": "python3"
  },
  "language_info": {
   "codemirror_mode": {
    "name": "ipython",
    "version": 3
   },
   "file_extension": ".py",
   "mimetype": "text/x-python",
   "name": "python",
   "nbconvert_exporter": "python",
   "pygments_lexer": "ipython3",
   "version": "3.9.12"
  }
 },
 "nbformat": 4,
 "nbformat_minor": 5
}
