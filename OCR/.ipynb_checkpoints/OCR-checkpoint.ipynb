{
 "cells": [
  {
   "cell_type": "code",
   "execution_count": 1,
   "id": "3734b598-9191-48bf-b29f-e9b37f93c030",
   "metadata": {
    "scrolled": true
   },
   "outputs": [
    {
     "name": "stdout",
     "output_type": "stream",
     "text": [
      "env: GOOGLE_APPLICATION_CREDENTIALS=C:\\ocr_project.json\n"
     ]
    }
   ],
   "source": [
    "%env GOOGLE_APPLICATION_CREDENTIALS=C:\\ocr_project.json\n",
    "import tkinter as tk\n",
    "from tkinter import filedialog\n",
    "\n",
    "root = tk.Tk()\n",
    "root.withdraw()\n",
    "\n",
    "file_path = filedialog.askopenfilename()\n",
    "\n",
    "import base64\n",
    "with open(file_path, \"rb\") as in_file:\n",
    "    data = in_file.read()\n",
    "    encodedBytes = base64.b64encode(data)\n",
    "\n",
    "encodedString = encodedBytes.decode(\"utf-8\") \n",
    "\n",
    "from google.cloud import vision\n",
    "client = vision.ImageAnnotatorClient()\n",
    "responseLatest = client.annotate_image({\n",
    "    'image': {'content': encodedString},\n",
    "    'features': [{'model': 'builtin/latest',\n",
    "                  'type_': vision.Feature.Type.DOCUMENT_TEXT_DETECTION}],\n",
    "})\n",
    "responseStable = client.annotate_image({\n",
    "    'image': {'content': encodedString},\n",
    "    'features': [{#'model': 'builtin/latest',\n",
    "                  'type_': vision.Feature.Type.DOCUMENT_TEXT_DETECTION}],\n",
    "})\n",
    "\n",
    "responses = [responseLatest,responseStable]\n",
    "\n",
    "from docx import Document\n",
    "from docx.enum.text import WD_COLOR_INDEX\n",
    "from docx.shared import Pt\n",
    "import os\n",
    "\n",
    "responseIteration = 0\n",
    "for response in responses:\n",
    "    document = Document()\n",
    "    for page in response.full_text_annotation.pages:\n",
    "        fullText = ''\n",
    "        for block in page.blocks:\n",
    "            for paragraph in block.paragraphs:\n",
    "                paragraphDoc = document.add_paragraph()\n",
    "                for word in paragraph.words:\n",
    "                    nextWord = ''\n",
    "                    for symbol in word.symbols:\n",
    "                        nextWord += symbol.text\n",
    "                        if symbol.property.detected_break and symbol.property.detected_break.type_ != 4:#HYPHEN\n",
    "                            nextWord += ' '\n",
    "                    fullText += nextWord\n",
    "                    if word.confidence < 0.9:\n",
    "                        run = paragraphDoc.add_run(nextWord)\n",
    "                        run.font.highlight_color = WD_COLOR_INDEX.YELLOW\n",
    "                        run.font.size = Pt(14)\n",
    "                    else:\n",
    "                        paragraphDoc.add_run(nextWord).font.size = Pt(14)\n",
    "                fullText += \"\\n\"\n",
    "    if responseIteration == 0:\n",
    "        docName = \"C:\\\\Users\\\\write\\\\OneDrive\\\\Desktop\\\\ocr_images\\\\finished\\\\\" + os.path.basename(file_path).rsplit('.', 1)[0] + \".docx\"\n",
    "        document.save(docName)\n",
    "    else:\n",
    "        docName = \"C:\\\\Users\\\\write\\\\OneDrive\\\\Desktop\\\\ocr_images\\\\finished\\\\\" + os.path.basename(file_path).rsplit('.', 1)[0] + \"Stable.docx\"\n",
    "        document.save(docName)\n",
    "    responseIteration+=1"
   ]
  },
  {
   "cell_type": "code",
   "execution_count": null,
   "id": "76e72adb-b332-4e2d-909e-a40cf0aa56ee",
   "metadata": {},
   "outputs": [],
   "source": []
  }
 ],
 "metadata": {
  "kernelspec": {
   "display_name": "Python 3 (ipykernel)",
   "language": "python",
   "name": "python3"
  },
  "language_info": {
   "codemirror_mode": {
    "name": "ipython",
    "version": 3
   },
   "file_extension": ".py",
   "mimetype": "text/x-python",
   "name": "python",
   "nbconvert_exporter": "python",
   "pygments_lexer": "ipython3",
   "version": "3.9.12"
  }
 },
 "nbformat": 4,
 "nbformat_minor": 5
}
