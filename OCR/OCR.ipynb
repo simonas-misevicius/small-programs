{
 "cells": [
  {
   "cell_type": "code",
   "execution_count": 8,
   "id": "3734b598-9191-48bf-b29f-e9b37f93c030",
   "metadata": {},
   "outputs": [
    {
     "name": "stdout",
     "output_type": "stream",
     "text": [
      "env: GOOGLE_APPLICATION_CREDENTIALS=C:\\ocr_project.json\n"
     ]
    }
   ],
   "source": [
    "%env GOOGLE_APPLICATION_CREDENTIALS=C:\\ocr_project.json\n",
    "import tkinter as tk\n",
    "from tkinter import filedialog\n",
    "\n",
    "root = tk.Tk()\n",
    "root.withdraw()\n",
    "\n",
    "file_path = filedialog.askopenfilename()\n",
    "\n",
    "import base64\n",
    "with open(file_path, \"rb\") as in_file:\n",
    "    data = in_file.read()\n",
    "    encodedBytes = base64.b64encode(data)\n",
    "\n",
    "encodedString = encodedBytes.decode(\"utf-8\") \n",
    "\n",
    "from google.cloud import vision\n",
    "client = vision.ImageAnnotatorClient()\n",
    "responseLatest = client.annotate_image({\n",
    "    'image': {'content': encodedString},\n",
    "    'features': [{'model': 'builtin/latest',\n",
    "                  'type_': vision.Feature.Type.DOCUMENT_TEXT_DETECTION}],\n",
    "})\n",
    "responseStable = client.annotate_image({\n",
    "    'image': {'content': encodedString},\n",
    "    'features': [{#'model': 'builtin/latest',\n",
    "                  'type_': vision.Feature.Type.DOCUMENT_TEXT_DETECTION}],\n",
    "})\n",
    "\n",
    "responses = [responseLatest,responseStable]\n",
    "\n",
    "from docx import Document\n",
    "from docx.enum.text import WD_COLOR_INDEX\n",
    "from docx.shared import Pt\n",
    "import os\n",
    "\n",
    "responseIteration = 0\n",
    "for response in responses:\n",
    "    document = Document()\n",
    "    for page in response.full_text_annotation.pages:\n",
    "        fullText = ''\n",
    "        for block in page.blocks:\n",
    "            for paragraph in block.paragraphs:\n",
    "                paragraphDoc = document.add_paragraph()\n",
    "                for word in paragraph.words:\n",
    "                    nextWord = ''\n",
    "                    for symbol in word.symbols:\n",
    "                        nextWord += symbol.text\n",
    "                        if symbol.property.detected_break and symbol.property.detected_break.type_ != 4:#HYPHEN\n",
    "                            nextWord += ' '\n",
    "                    fullText += nextWord\n",
    "                    if word.confidence < 0.9:\n",
    "                        run = paragraphDoc.add_run(nextWord)\n",
    "                        run.font.highlight_color = WD_COLOR_INDEX.YELLOW\n",
    "                        run.font.size = Pt(14)\n",
    "                    else:\n",
    "                        paragraphDoc.add_run(nextWord).font.size = Pt(14)\n",
    "                fullText += \"\\n\"\n",
    "    if responseIteration == 0:\n",
    "        docName = \"C:\\\\Users\\\\write\\\\OneDrive\\\\Desktop\\\\ocr_images\\\\finished\\\\\" + os.path.basename(file_path).rsplit('.', 1)[0] + \".docx\"\n",
    "        document.save(docName)\n",
    "        #with open(\"C:\\\\Users\\\\write\\\\Desktop\\\\ocr_images\\\\finished\\\\\" + os.path.basename(file_path).rsplit('.', 1)[0] + \".txt\", \"w\") as out_file:\n",
    "            #out_file.write(fullText)\n",
    "    else:\n",
    "        docName = \"C:\\\\Users\\\\write\\\\OneDrive\\\\Desktop\\\\ocr_images\\\\finished\\\\\" + os.path.basename(file_path).rsplit('.', 1)[0] + \"Stable.docx\"\n",
    "        document.save(docName)\n",
    "        #with open(\"C:\\\\Users\\\\write\\\\Desktop\\\\ocr_images\\\\finished\\\\\" + os.path.basename(file_path).rsplit('.', 1)[0] + \"Stable.txt\", \"w\") as out_file:\n",
    "            #out_file.write(fullText)\n",
    "    responseIteration+=1"
   ]
  },
  {
   "cell_type": "code",
   "execution_count": null,
   "id": "58e0beb2-17fd-4f3e-8a20-7f1e7de1b500",
   "metadata": {},
   "outputs": [],
   "source": [
    "import base64\n",
    "with open(r\"C:\\Users\\write\\Desktop\\ocr_images\\from_photo\\IMG_20220505_122728.jpg\", \"rb\") as in_file, open(r\"C:\\Users\\write\\Desktop\\ocr_images\\encoded.txt\", \"wb\") as out_file:\n",
    "    data = in_file.read()\n",
    "    encoded = base64.b64encode(data)\n",
    "    out_file.write(encoded)\n",
    "\n",
    "encoded[0:50] + encoded[-50:] "
   ]
  },
  {
   "cell_type": "code",
   "execution_count": 102,
   "id": "5f0882a5-21da-4c83-8776-5fbef9d472a5",
   "metadata": {},
   "outputs": [],
   "source": [
    "from google.cloud import vision\n",
    "client = vision.ImageAnnotatorClient()\n",
    "response = client.annotate_image({\n",
    "    'image': {'content': decoded},\n",
    "    'features': [{#'model': 'builtin/latest',\n",
    "                  'type_': vision.Feature.Type.DOCUMENT_TEXT_DETECTION}],\n",
    "})"
   ]
  },
  {
   "cell_type": "code",
   "execution_count": 105,
   "id": "d2848ba8-485c-40b7-bcc9-1f526a98dc6a",
   "metadata": {},
   "outputs": [],
   "source": [
    "with open(r\"C:\\Users\\write\\Desktop\\ocr_images\\responsePy2.txt\", \"w\") as out_file:\n",
    "    out_file.write(str(response))"
   ]
  },
  {
   "cell_type": "code",
   "execution_count": 4,
   "id": "199e8f1b",
   "metadata": {},
   "outputs": [
    {
     "data": {
      "text/plain": [
       "False"
      ]
     },
     "execution_count": 4,
     "metadata": {},
     "output_type": "execute_result"
    }
   ],
   "source": [
    "import os\n",
    "#os.path.isfile(r\"C:/Users/write/Downloads/ocr_project-e4d8e83c349c.json\")\n",
    "os.path.exists(\"'C:\\\\ocr_project.json'\")"
   ]
  },
  {
   "cell_type": "code",
   "execution_count": 2,
   "id": "89cebf78",
   "metadata": {},
   "outputs": [
    {
     "name": "stdout",
     "output_type": "stream",
     "text": [
      "env: GOOGLE_APPLICATION_CREDENTIALS=C:\\ocr_project.json\n"
     ]
    }
   ],
   "source": [
    "%env GOOGLE_APPLICATION_CREDENTIALS=C:\\ocr_project.json"
   ]
  },
  {
   "cell_type": "code",
   "execution_count": null,
   "id": "76e72adb-b332-4e2d-909e-a40cf0aa56ee",
   "metadata": {},
   "outputs": [],
   "source": []
  }
 ],
 "metadata": {
  "kernelspec": {
   "display_name": "Python 3 (ipykernel)",
   "language": "python",
   "name": "python3"
  },
  "language_info": {
   "codemirror_mode": {
    "name": "ipython",
    "version": 3
   },
   "file_extension": ".py",
   "mimetype": "text/x-python",
   "name": "python",
   "nbconvert_exporter": "python",
   "pygments_lexer": "ipython3",
   "version": "3.9.12"
  }
 },
 "nbformat": 4,
 "nbformat_minor": 5
}
